{
 "cells": [
  {
   "cell_type": "code",
   "execution_count": 1,
   "metadata": {},
   "outputs": [
    {
     "data": {
      "text/plain": [
       "[9, 6, 3, 2]"
      ]
     },
     "execution_count": 1,
     "metadata": {},
     "output_type": "execute_result"
    }
   ],
   "source": [
    "def bubble_sort(my_list):\n",
    "    for i in range(len(my_list)):\n",
    "        for j in range(len(my_list)-i-1):\n",
    "            if my_list[j]<my_list[j+1]:\n",
    "                my_list[j+1],my_list[j]=my_list[j],my_list[j+1]\n",
    "    return my_list\n",
    "bubble_sort([9,2,6,3])"
   ]
  },
  {
   "cell_type": "code",
   "execution_count": 2,
   "metadata": {},
   "outputs": [
    {
     "data": {
      "text/plain": [
       "[9, 6, 3, 2]"
      ]
     },
     "execution_count": 2,
     "metadata": {},
     "output_type": "execute_result"
    }
   ],
   "source": [
    "def modified_bubble_sort(my_list):\n",
    "    for i in range(len(my_list)):\n",
    "        swaapped= False\n",
    "        for j in range(len(my_list)-i-1):\n",
    "            if my_list[j]<my_list[j+1]:\n",
    "                my_list[j+1],my_list[j]=my_list[j],my_list[j+1]\n",
    "                swapped=True\n",
    "        if swapped == True:\n",
    "            break\n",
    "    return my_list\n",
    "modified_bubble_sort([9,2,6,3])"
   ]
  },
  {
   "cell_type": "code",
   "execution_count": 9,
   "metadata": {},
   "outputs": [
    {
     "data": {
      "text/plain": [
       "[1, 1, 2, 3, 3, 4, 8, 9]"
      ]
     },
     "execution_count": 9,
     "metadata": {},
     "output_type": "execute_result"
    }
   ],
   "source": [
    "def insertionsort(lst):\n",
    "    for i in range(len(lst)):\n",
    "        key=lst[i]\n",
    "        j=i-1\n",
    "        while j >= 0 and lst[j]>key:\n",
    "            lst[j+1]=lst[j]\n",
    "            \n",
    "            j=j-1\n",
    "        lst[j+1]=key\n",
    "    return lst\n",
    "insertionsort([8,4,3,9,1,2,3,1])"
   ]
  },
  {
   "cell_type": "code",
   "execution_count": 10,
   "metadata": {},
   "outputs": [
    {
     "data": {
      "text/plain": [
       "[8, 7, 6, 5, 3, 1]"
      ]
     },
     "execution_count": 10,
     "metadata": {},
     "output_type": "execute_result"
    }
   ],
   "source": [
    "def quick_sort(lst):\n",
    "    if len(lst)<=1:\n",
    "        return lst\n",
    "    pivot=lst[0]\n",
    "    greater= [x for x in lst[1: ] if x> pivot]\n",
    "    lesser = [x for  x in lst[1: ] if x <pivot]\n",
    "    return quick_sort(greater)+ [pivot] + quick_sort(lesser)\n",
    "quick_sort([1,5,6,7,8,3])"
   ]
  },
  {
   "cell_type": "code",
   "execution_count": 12,
   "metadata": {},
   "outputs": [
    {
     "data": {
      "text/plain": [
       "[9, 8, 7, 5, 4, 3, 2, 1]"
      ]
     },
     "execution_count": 12,
     "metadata": {},
     "output_type": "execute_result"
    }
   ],
   "source": [
    "def selection_sort(lst2):\n",
    "    for i in  range(len(lst2)):\n",
    "        key=lst2[i]\n",
    "        pos=i\n",
    "        for j in range(i+1,len(lst2)):\n",
    "            if lst2[j]>key:\n",
    "                key=lst2[j]\n",
    "                pos=j\n",
    "        lst2[i],lst2[pos]=lst2[pos],lst2[i]\n",
    "    return lst2\n",
    "selection_sort([9,2,3,1,7,5,8,4])"
   ]
  },
  {
   "cell_type": "code",
   "execution_count": 15,
   "metadata": {},
   "outputs": [
    {
     "data": {
      "text/plain": [
       "[3, 4, 22, 32, 67, 93]"
      ]
     },
     "execution_count": 15,
     "metadata": {},
     "output_type": "execute_result"
    }
   ],
   "source": [
    "def merge_sort(lst):\n",
    "    if len(lst)<=1:\n",
    "        return lst\n",
    "    middle=len(lst)//2\n",
    "    left_side=merge_sort(lst[ : middle])\n",
    "    right_side=merge_sort(lst[middle : ] )\n",
    "    return merge(left_side,right_side)\n",
    "\n",
    "def merge(left,right):\n",
    "    i=j=0\n",
    "    ssorted_list=[]\n",
    "    while i <len(left) and j< len(right):\n",
    "        if left[i]<right[j]:\n",
    "            ssorted_list.append(left[i])\n",
    "            i+=1\n",
    "        else:\n",
    "            ssorted_list.append(right[j])\n",
    "            j+=1\n",
    "    ssorted_list.extend(left[i:])\n",
    "    ssorted_list.extend(right[j:])\n",
    "    return ssorted_list\n",
    "merge_sort([93,4,3,67,32,22])"
   ]
  },
  {
   "cell_type": "code",
   "execution_count": 41,
   "metadata": {},
   "outputs": [
    {
     "name": "stdout",
     "output_type": "stream",
     "text": [
      "[1, 2, 8, 4]\n",
      "[4, 8, 2, 1]\n"
     ]
    }
   ],
   "source": [
    "class Stack:\n",
    "\n",
    "    def __init__(self):\n",
    "        self.items=[]\n",
    "    \n",
    "    def push(self,element):\n",
    "        self.items.append(element)\n",
    "    \n",
    "    def pop(self):\n",
    "        if not len(self.items)==0:\n",
    "            return self.items.pop()\n",
    "        return None\n",
    "    def is_empty(self):\n",
    "        if len(self.items)==0:\n",
    "            return True\n",
    "        else:\n",
    "            return False\n",
    "\n",
    "    def remove_middle(self):\n",
    "        if self.is_empty():\n",
    "            return \"stack is empty\"\n",
    "        st=Stack()\n",
    "        middle=len(self.items)//2\n",
    "        for i in range(middle):\n",
    "            st.push(self.pop())\n",
    "        self.pop()\n",
    "        while  not st.is_empty():\n",
    "            self.push(st.pop())\n",
    "    \n",
    "    def reverse_str(self):\n",
    "      st=Stack()\n",
    "      while not  self.is_empty():\n",
    "        st.push(self.pop())\n",
    "      self.items= st.items\n",
    "\n",
    "    \n",
    "    def display(self):\n",
    "        return self.items\n",
    "\n",
    "s1=Stack()\n",
    "s1.push(1)\n",
    "s1.push(2)\n",
    "s1.push(9)\n",
    "s1.push(8)\n",
    "s1.push(4)\n",
    "s1.display()\n",
    "s1.remove_middle()\n",
    "print(s1.display())\n",
    "\n",
    "s1.reverse_str()\n",
    "print(s1.display())\n"
   ]
  },
  {
   "cell_type": "code",
   "execution_count": 31,
   "metadata": {},
   "outputs": [
    {
     "ename": "TypeError",
     "evalue": "sequence item 0: expected str instance, int found",
     "output_type": "error",
     "traceback": [
      "\u001b[1;31m---------------------------------------------------------------------------\u001b[0m",
      "\u001b[1;31mTypeError\u001b[0m                                 Traceback (most recent call last)",
      "Cell \u001b[1;32mIn[31], line 9\u001b[0m\n\u001b[0;32m      7\u001b[0m                 new_list\u001b[38;5;241m.\u001b[39mappend(\u001b[38;5;28mstr\u001b[39m(i))\n\u001b[0;32m      8\u001b[0m     \u001b[38;5;28;01mreturn\u001b[39;00m \u001b[38;5;124m\"\u001b[39m\u001b[38;5;124mx\u001b[39m\u001b[38;5;124m\"\u001b[39m\u001b[38;5;241m.\u001b[39mjoin(my_list)\n\u001b[1;32m----> 9\u001b[0m \u001b[43mprime_factor\u001b[49m\u001b[43m(\u001b[49m\u001b[43m[\u001b[49m\u001b[38;5;241;43m9\u001b[39;49m\u001b[43m,\u001b[49m\u001b[38;5;241;43m3\u001b[39;49m\u001b[43m,\u001b[49m\u001b[38;5;241;43m4\u001b[39;49m\u001b[43m,\u001b[49m\u001b[38;5;241;43m98\u001b[39;49m\u001b[43m]\u001b[49m\u001b[43m)\u001b[49m\n",
      "Cell \u001b[1;32mIn[31], line 8\u001b[0m, in \u001b[0;36mprime_factor\u001b[1;34m(my_list)\u001b[0m\n\u001b[0;32m      6\u001b[0m         \u001b[38;5;28;01mif\u001b[39;00m num\u001b[38;5;241m%\u001b[39mi\u001b[38;5;241m==\u001b[39m\u001b[38;5;241m0\u001b[39m:\n\u001b[0;32m      7\u001b[0m             new_list\u001b[38;5;241m.\u001b[39mappend(\u001b[38;5;28mstr\u001b[39m(i))\n\u001b[1;32m----> 8\u001b[0m \u001b[38;5;28;01mreturn\u001b[39;00m \u001b[38;5;124;43m\"\u001b[39;49m\u001b[38;5;124;43mx\u001b[39;49m\u001b[38;5;124;43m\"\u001b[39;49m\u001b[38;5;241;43m.\u001b[39;49m\u001b[43mjoin\u001b[49m\u001b[43m(\u001b[49m\u001b[43mmy_list\u001b[49m\u001b[43m)\u001b[49m\n",
      "\u001b[1;31mTypeError\u001b[0m: sequence item 0: expected str instance, int found"
     ]
    }
   ],
   "source": [
    "def prime_factor(my_list):\n",
    "  for num in my_list:\n",
    "    new_list=[]\n",
    "    for i in range(2,num+1):\n",
    "        for j in range(2,num+1):\n",
    "            if num%i==0:\n",
    "                new_list.append(str(i))\n",
    "    return \"x\".join(my_list)\n",
    "prime_factor([9,3,4,98])"
   ]
  },
  {
   "cell_type": "code",
   "execution_count": 32,
   "metadata": {},
   "outputs": [
    {
     "name": "stdout",
     "output_type": "stream",
     "text": [
      "['3 x 3', '3', '2 x 2', '2 x 7 x 7']\n"
     ]
    }
   ],
   "source": [
    "def prime_factor(my_list):\n",
    "    result = []  # Store results for each number\n",
    "    for num in my_list:\n",
    "        new_list = []\n",
    "        i = 2\n",
    "        while num > 1:  # Continue factorization until num reduces to 1\n",
    "            while num % i == 0:\n",
    "                new_list.append(str(i))\n",
    "                num //= i\n",
    "            i += 1\n",
    "        result.append(\" x \".join(new_list))  # Store factorized result\n",
    "    \n",
    "    return result  # Return list of factored numbers\n",
    "\n",
    "# Example usage\n",
    "print(prime_factor([9, 3, 4, 98]))\n"
   ]
  },
  {
   "cell_type": "code",
   "execution_count": 43,
   "metadata": {},
   "outputs": [
    {
     "ename": "TypeError",
     "evalue": "prime_factor() takes 1 positional argument but 4 were given",
     "output_type": "error",
     "traceback": [
      "\u001b[1;31m---------------------------------------------------------------------------\u001b[0m",
      "\u001b[1;31mTypeError\u001b[0m                                 Traceback (most recent call last)",
      "Cell \u001b[1;32mIn[43], line 13\u001b[0m\n\u001b[0;32m     11\u001b[0m             i\u001b[38;5;241m+\u001b[39m\u001b[38;5;241m=\u001b[39m\u001b[38;5;241m1\u001b[39m\n\u001b[0;32m     12\u001b[0m     \u001b[38;5;28;01mreturn\u001b[39;00m result\u001b[38;5;241m.\u001b[39mappend(\u001b[38;5;124m\"\u001b[39m\u001b[38;5;124mx\u001b[39m\u001b[38;5;124m\"\u001b[39m\u001b[38;5;241m.\u001b[39mjoin(new_lst))\n\u001b[1;32m---> 13\u001b[0m \u001b[43mprime_factor\u001b[49m\u001b[43m(\u001b[49m\u001b[38;5;241;43m98\u001b[39;49m\u001b[43m,\u001b[49m\u001b[38;5;241;43m87\u001b[39;49m\u001b[43m,\u001b[49m\u001b[38;5;241;43m92\u001b[39;49m\u001b[43m,\u001b[49m\u001b[38;5;241;43m4\u001b[39;49m\u001b[43m)\u001b[49m\n",
      "\u001b[1;31mTypeError\u001b[0m: prime_factor() takes 1 positional argument but 4 were given"
     ]
    }
   ],
   "source": [
    "def prime_factor(lst):\n",
    "    result=[]\n",
    "    for num in lst:\n",
    "        new_lst=[]\n",
    "        i=2\n",
    "\n",
    "        while num>1:\n",
    "            while num % i == 0:\n",
    "                new_lst.append(str(i))\n",
    "                num //=i\n",
    "            i+=1\n",
    "    return result.append(\"x\".join(new_lst))\n",
    "prime_factor(98,87,92,4)"
   ]
  },
  {
   "cell_type": "code",
   "execution_count": 44,
   "metadata": {},
   "outputs": [
    {
     "data": {
      "text/plain": [
       "' itaws'"
      ]
     },
     "execution_count": 44,
     "metadata": {},
     "output_type": "execute_result"
    }
   ],
   "source": [
    "def reverse_str(my_str):\n",
    "    new_str=\" \"\n",
    "    for i in range(len(my_str)-1,-1,-1):\n",
    "        new_str+=my_str[i]\n",
    "    return new_str\n",
    "reverse_str(\"swati\")"
   ]
  },
  {
   "cell_type": "code",
   "execution_count": null,
   "metadata": {},
   "outputs": [
    {
     "data": {
      "text/plain": [
       "False"
      ]
     },
     "execution_count": 7,
     "metadata": {},
     "output_type": "execute_result"
    }
   ],
   "source": [
    "class  check_parenthesis:\n",
    "    def __init__(self,string):\n",
    "     self.string=string\n",
    "    \n",
    "    def balance(self):\n",
    "     \n",
    "     stack=[]\n",
    "     opening=\"[{(<\"\n",
    "     closing=\"]})>\"\n",
    "     mapping={\"[\":\"]\",\"{\":\"}\",\"(\":\")\",\"<\":\">\"}\n",
    "     \n",
    "     for char  in self.string:\n",
    "       if char in opening:\n",
    "         stack.append(char)\n",
    "       elif char in closing:\n",
    "         if not stack or mapping[stack[-1]] != char:\n",
    "           return False\n",
    "         stack.pop()\n",
    "     return not stack\n",
    "\n",
    "s1=check_parenthesis(\"{{<>})}\")\n",
    "s1.balance() \n",
    "       "
   ]
  },
  {
   "cell_type": "code",
   "execution_count": 2,
   "metadata": {},
   "outputs": [],
   "source": [
    "def push_data_from_file(self,filename):\n",
    "    print(\"pushing lines from file\")\n",
    "    with open(filename) as file:\n",
    "     for line in filename.readlines():\n",
    "        print(line.strip)"
   ]
  },
  {
   "cell_type": "code",
   "execution_count": null,
   "metadata": {},
   "outputs": [],
   "source": [
    "def push_data__from_file(self,filename):\n",
    "    print(\"pushing data from file\")\n",
    "    with open(filename) as file:\n",
    "        for line in filename.readlines():\n",
    "            print(line.strip)"
   ]
  },
  {
   "cell_type": "code",
   "execution_count": null,
   "metadata": {},
   "outputs": [],
   "source": [
    "def push__data__from_file(self,filename):\n",
    "\n",
    "    print(\"pushing dataa from file\")\n",
    "    with open(filename) as file:\n",
    "        for line in filename.readlines():\n",
    "            print(line.strip)"
   ]
  },
  {
   "cell_type": "code",
   "execution_count": null,
   "metadata": {},
   "outputs": [],
   "source": [
    "class cirqueue:\n",
    "\n",
    "    def __init__(self,capacity):\n",
    "        self.front=-1\n",
    "        self.rear=-1\n",
    "        self.capacity=capacity\n",
    "\n",
    "    def check_empty(self):\n",
    "        if self.front==-1 and self.rear==-1:\n",
    "            return True\n",
    "        else:\n",
    "            return False\n",
    "    \n",
    "    def enqueue(self,element):\n",
    "        if self.front == -1:\n",
    "            self.front=element\n",
    "        self.rear=(self.rear+1)%self.capacity\n",
    "        self.rear=element\n",
    "    \n",
    "    def dequeue(self):\n",
    "        if self.front==-1:\n",
    "            return \"deletion not possible\"\n",
    "        self.front=(self.front+1)%self.capacity\n",
    "        "
   ]
  },
  {
   "cell_type": "code",
   "execution_count": 2,
   "metadata": {},
   "outputs": [
    {
     "data": {
      "text/plain": [
       "[9, 8, 6, 1, 0]"
      ]
     },
     "execution_count": 2,
     "metadata": {},
     "output_type": "execute_result"
    }
   ],
   "source": [
    "def quick_sort(my_list):\n",
    "    if len(my_list)<=1:\n",
    "        return my_list\n",
    "    pivot=my_list[0]\n",
    "    larger=[x for x in my_list[1: ] if x> pivot]\n",
    "    smaller= [x for x in my_list[1: ] if x < pivot]\n",
    "    return quick_sort(larger)+[pivot]+quick_sort(smaller)\n",
    "quick_sort([8,6,1,0,9])"
   ]
  },
  {
   "cell_type": "code",
   "execution_count": 7,
   "metadata": {},
   "outputs": [
    {
     "data": {
      "text/plain": [
       "[9, 8, 7, 6, 5, 0]"
      ]
     },
     "execution_count": 7,
     "metadata": {},
     "output_type": "execute_result"
    }
   ],
   "source": [
    "def merge_sort(my_list):\n",
    "    if len(my_list)<=1:\n",
    "        return my_list\n",
    "    middle= len(my_list)//2\n",
    "    left_side= merge_sort(my_list[ :middle])\n",
    "    right_side = merge_sort(my_list[middle : ])\n",
    "    return merge(left_side,right_side)\n",
    "\n",
    "def merge(left,right):\n",
    "    i=0\n",
    "    j=0\n",
    "    sorted_list=[]\n",
    "    while len(left)>j and len(right)>i:\n",
    "        if left[j]>right[i]:\n",
    "            sorted_list.append(left[j])\n",
    "            j+=1\n",
    "        else:\n",
    "            sorted_list.append(right[i])\n",
    "            i=i+1\n",
    "    sorted_list.extend(left[j: ])\n",
    "    sorted_list.extend(right[i: ])\n",
    "    return sorted_list\n",
    "merge_sort([7,8,5,9,6,0])\n"
   ]
  },
  {
   "cell_type": "code",
   "execution_count": 12,
   "metadata": {},
   "outputs": [
    {
     "data": {
      "text/plain": [
       "[9, 8, 7, 3, 0]"
      ]
     },
     "execution_count": 12,
     "metadata": {},
     "output_type": "execute_result"
    }
   ],
   "source": [
    "def selection_sort(my_list):\n",
    "    for i in range(len(my_list)):\n",
    "        key=my_list[i]\n",
    "        pos=i\n",
    "        for j in range(i+1,len(my_list)):\n",
    "            if my_list[j]>key:\n",
    "                key=my_list[j+1]\n",
    "                pos=j\n",
    "        my_list[i],my_list[pos]=my_list[pos],my_list[i]\n",
    "    return my_list\n",
    "selection_sort([7,8,3,9,0])"
   ]
  },
  {
   "cell_type": "code",
   "execution_count": 13,
   "metadata": {},
   "outputs": [
    {
     "data": {
      "text/plain": [
       "[1, 5, 6, 7, 8, 9]"
      ]
     },
     "execution_count": 13,
     "metadata": {},
     "output_type": "execute_result"
    }
   ],
   "source": [
    "def insertition_sort(my_list):\n",
    "    for i in range(len(my_list)):\n",
    "        key=my_list[i]\n",
    "        j=i-1\n",
    "        while j >= 0 and my_list[j] > key:\n",
    "            my_list[j+1]=my_list[j]\n",
    "            j-=1\n",
    "        my_list[j+1] = key\n",
    "    return my_list\n",
    "insertition_sort([9,7,8,6,1,5])\n",
    "            \n"
   ]
  },
  {
   "cell_type": "code",
   "execution_count": 18,
   "metadata": {},
   "outputs": [],
   "source": [
    "def insertition_sort(my_list):\n",
    "    for i in range(len(my_list)):\n",
    "        key=my_list[i]\n",
    "        j=i-1\n",
    "        while j>=0 and my_list[j] > key:\n",
    "            my_list[j+1]=my_list[j]\n",
    "            j-=1\n",
    "        my_list[j+1]=key\n",
    "    return my_list"
   ]
  },
  {
   "cell_type": "code",
   "execution_count": 20,
   "metadata": {},
   "outputs": [
    {
     "data": {
      "text/plain": [
       "[2, 4, 5, 7, 8, 9]"
      ]
     },
     "execution_count": 20,
     "metadata": {},
     "output_type": "execute_result"
    }
   ],
   "source": [
    "def bubble_sort(my_list):\n",
    "    for i in range(len(my_list)):\n",
    "        for j in range(len(my_list)-i-1):\n",
    "            if my_list[j]>my_list[j+1]:\n",
    "                my_list[j+1],my_list[j]=my_list[j],my_list[j+1]\n",
    "    return my_list\n",
    "bubble_sort([9,5,4,7,2,8])"
   ]
  },
  {
   "cell_type": "code",
   "execution_count": 22,
   "metadata": {},
   "outputs": [
    {
     "data": {
      "text/plain": [
       "[0, 1, 2, 4, 6, 8, 9]"
      ]
     },
     "execution_count": 22,
     "metadata": {},
     "output_type": "execute_result"
    }
   ],
   "source": [
    "def modified_bubble_sort(my_list):\n",
    "    for i in range(len(my_list)):\n",
    "        swapped=False\n",
    "        for j in range(len(my_list)-i-1):\n",
    "            if my_list[j]>my_list[j+1]:\n",
    "                my_list[j],my_list[j+1] = my_list[j+1], my_list[j]\n",
    "                swapped= True\n",
    "        if swapped == False:\n",
    "            break\n",
    "    return my_list\n",
    "modified_bubble_sort([9,4,6,2,1,0,8])"
   ]
  },
  {
   "cell_type": "code",
   "execution_count": 36,
   "metadata": {},
   "outputs": [
    {
     "data": {
      "text/plain": [
       "[84, 81, 88, 99, 8]"
      ]
     },
     "execution_count": 36,
     "metadata": {},
     "output_type": "execute_result"
    }
   ],
   "source": [
    "class Stack:\n",
    "\n",
    "    def __init__(self):\n",
    "        self.items=[]\n",
    "\n",
    "    def push(self,data):\n",
    "        self.items.append(data)\n",
    "    \n",
    "    def pop(self):\n",
    "        if len(self.items)==0:\n",
    "\n",
    "            return \"can't pop \"\n",
    "        return self.items.pop()\n",
    "    def get_peak(self):\n",
    "        return self.items[-1]\n",
    "    def display(self):\n",
    "        return self.items\n",
    "    def remove_middle(self):\n",
    "        st=Stack()\n",
    "        middle=len(self.items)//2\n",
    "        for _ in range(middle):\n",
    "            st.push(self.pop())\n",
    "        self.pop()\n",
    "        while len(self.items)> 0:\n",
    "            st.push(self.pop())\n",
    "            self.items=st.items\n",
    "        return self.items\n",
    "    def reverse(self):\n",
    "        st=Stack()\n",
    "        while len(self.items) != 0:\n",
    "            st.push(self.pop())\n",
    "        self.items= st.items\n",
    "        return self.items\n",
    "            \n",
    "s1=Stack()\n",
    "s1.push(8)\n",
    "s1.push(99)\n",
    "s1.push(88)\n",
    "s1.push(81)\n",
    "s1.push(84)\n",
    "s1.display()\n",
    "s1.reverse()\n",
    "s1.display()\n"
   ]
  },
  {
   "cell_type": "code",
   "execution_count": 39,
   "metadata": {},
   "outputs": [
    {
     "ename": "TypeError",
     "evalue": "checkparenthesis.__init__() missing 1 required positional argument: 'string'",
     "output_type": "error",
     "traceback": [
      "\u001b[1;31m---------------------------------------------------------------------------\u001b[0m",
      "\u001b[1;31mTypeError\u001b[0m                                 Traceback (most recent call last)",
      "Cell \u001b[1;32mIn[39], line 21\u001b[0m\n\u001b[0;32m     18\u001b[0m                     stack\u001b[38;5;241m.\u001b[39mpop()\n\u001b[0;32m     19\u001b[0m             \u001b[38;5;28;01mreturn\u001b[39;00m \u001b[38;5;124m\"\u001b[39m\u001b[38;5;124mnot stack\u001b[39m\u001b[38;5;124m\"\u001b[39m\n\u001b[1;32m---> 21\u001b[0m str1\u001b[38;5;241m=\u001b[39m\u001b[43mcheckparenthesis\u001b[49m\u001b[43m(\u001b[49m\u001b[43m \u001b[49m\u001b[43m)\u001b[49m\n\u001b[0;32m     22\u001b[0m str1\u001b[38;5;241m.\u001b[39mbalance(str1)\n",
      "\u001b[1;31mTypeError\u001b[0m: checkparenthesis.__init__() missing 1 required positional argument: 'string'"
     ]
    }
   ],
   "source": [
    "class checkparenthesis:\n",
    "\n",
    "    def __init__(self,string):\n",
    "        self.string=string\n",
    "    \n",
    "    def balance(self):\n",
    "        opening= \"({[<\"\n",
    "        closing = \")}]>\"\n",
    "        mapping= {\"(\": \")\",\"{\":\"}\",\"<\":\">\",\"[\":\"]\"}\n",
    "        stack=[]\n",
    "\n",
    "        for char in self.string:\n",
    "            if char in opening:\n",
    "                stack.append(char)\n",
    "            else:\n",
    "\n",
    "                if not stack or stack[-1] != char:\n",
    "                    stack.pop()\n",
    "            return \"not stack\"\n",
    "\n",
    "str1=checkparenthesis( )\n",
    "str1.balance(str1)\n"
   ]
  },
  {
   "cell_type": "code",
   "execution_count": 45,
   "metadata": {},
   "outputs": [],
   "source": [
    "class Queue:\n",
    "\n",
    "\n",
    "    def __init__(self):\n",
    "        self.items=[]\n",
    "\n",
    "    def get_length(self):\n",
    "        return len(self.items)\n",
    "    def get_front(self):\n",
    "        return self.items[0]\n",
    "    def get_rear(self):\n",
    "        return self.items[-1]\n",
    "    def enqueue(self,item):\n",
    "        self.items.append(item)\n",
    "    \n",
    "    def dequeue(self):\n",
    "        self.items.pop(0)\n",
    "\n",
    "    def display(self):\n",
    "        return self.items\n",
    "    "
   ]
  },
  {
   "cell_type": "code",
   "execution_count": 46,
   "metadata": {},
   "outputs": [],
   "source": [
    "class doubly_ended_queue:\n",
    "\n",
    "    def __init__(self):\n",
    "         self.items=[]\n",
    "\n",
    "    def get_length(self):\n",
    "        return len(self.items)\n",
    "    def get_front(self):\n",
    "        return self.items[0]\n",
    "    def get_rear(self):\n",
    "        return self.items[-1]\n",
    "    def enqueue_last(self,item):\n",
    "        self.items.append(item)\n",
    "    def enqueue_start(self,item):\n",
    "        self.items.insert(0,item)\n",
    "    def dequeue_last(self):\n",
    "        self.items.pop()\n",
    "    \n",
    "    def dequeue(self):\n",
    "        self.items.pop(0)\n",
    "\n",
    "    def display(self):\n",
    "        return self.items\n",
    "    "
   ]
  },
  {
   "cell_type": "code",
   "execution_count": 47,
   "metadata": {},
   "outputs": [],
   "source": [
    "class CircularQueue:\n",
    "\n",
    "    def __init__(self,capacity):\n",
    "\n",
    "        self.front=-1\n",
    "        self.rear=-1\n",
    "        self.capacity=capacity\n",
    "        self.items=[None]* self.capacity\n",
    "        self.size=0\n",
    "    \n",
    "    def is_empty(self):\n",
    "        if self.size == 0:\n",
    "            return True\n",
    "        else:\n",
    "            return False\n",
    "    \n",
    "    def enqueue(self,item):\n",
    "        if self.capacity== len(self.items):\n",
    "            return \"Sorry queue is Full\"\n",
    "        \n",
    "        self.rear=(self.rear+1) % self.capacity\n",
    "        self.dequeue[self.rear]=item\n",
    "\n",
    "    def dequeue(self):\n",
    "        if self.size==0:\n",
    "            return \"Sorry ! can't remove elemennt\"\n",
    "        item=self.items[self.front]\n",
    "        if self.front==self.rear:\n",
    "            self.front=self.rear=-1\n",
    "        self.front=(self.front+1) % self.capacity\n",
    "        self.size-=1\n",
    "        return item\n",
    "    \n",
    "    def display(self):\n",
    "        if self.is_empty():\n",
    "            return \"queue is empty\"\n",
    "        index=self.front\n",
    "        for _ in range(self.size):\n",
    "            print(self.items[index])\n",
    "            index = (index+1) % self.capacity\n",
    "        print()\n",
    "\n"
   ]
  },
  {
   "cell_type": "code",
   "execution_count": 1,
   "metadata": {},
   "outputs": [],
   "source": [
    "class Node:\n",
    "    def __init__(self,data=None,next=None):\n",
    "        self.data=data\n",
    "        self.next=next\n",
    "\n",
    "class sll:\n",
    "\n",
    "    def __init__(self):\n",
    "        self.start=None\n",
    "\n",
    "    def check_empty(self):\n",
    "        if self.start==None:\n",
    "            return True\n",
    "        else:\n",
    "            return False\n",
    "    \n",
    "    def insert_at_first(self,element):\n",
    "        n=Node(element,self.start)\n",
    "        self.start=n\n",
    "    def insert_at_last(self,element):\n",
    "        if self.start==None:\n",
    "            self.insert_at_first()\n",
    "        else:\n",
    "            temp=self.start\n",
    "            n=Node(element)\n",
    "            while temp.next != None:\n",
    "                temp=temp.next\n",
    "            temp.next=n\n",
    "    \n",
    "    def insert_after(self,targeted,element):\n",
    "        n=Node(element,targeted.next)\n",
    "        temp=self.start\n",
    "        while temp.next != None:\n",
    "            if temp==targeted:\n",
    "                temp.next=n\n",
    "            temp=temp.next\n",
    "    \n",
    "    def delete_from_start(self):\n",
    "        if self.start==None:\n",
    "            return \"sorry deletion is not possible\"\n",
    "        self.start=self.start.next\n",
    "    \n",
    "    def delete_from_last(self):\n",
    "         if self.start==None:\n",
    "            return \"sorry deletion is not possible\"\n",
    "         temp=self.start\n",
    "         while temp.next.next != None:\n",
    "             temp=temp.next\n",
    "         temp.next=temp\n",
    "    \n",
    "    def delete_after(self,targeted):\n",
    "         if self.start==None:\n",
    "            return \"sorry deletion is not possible\" \n",
    "         temp=self.start\n",
    "         while temp.next != targeted:\n",
    "             temp=temp.next\n",
    "         targeted.next=targeted.next.next\n",
    "\n",
    "    def display(self):\n",
    "        temp=self.start\n",
    "        while temp.next != None:\n",
    "            print(temp.items,\"-->\",end= \" \")\n",
    "        print()\n",
    "         \n"
   ]
  },
  {
   "cell_type": "code",
   "execution_count": 2,
   "metadata": {},
   "outputs": [
    {
     "name": "stdout",
     "output_type": "stream",
     "text": [
      "6 --> 5 --> 4 --> 3 --> 2 --> 1 --> None\n"
     ]
    }
   ],
   "source": [
    "class Node:\n",
    "    def __init__(self, data=None, next=None):\n",
    "        self.data = data\n",
    "        self.next = next\n",
    "\n",
    "class SLL:\n",
    "    def __init__(self):\n",
    "        self.start = None\n",
    "\n",
    "    def check_empty(self):\n",
    "        return self.start is None\n",
    "    \n",
    "    def insert_at_first(self, element):\n",
    "        n = Node(element, self.start)\n",
    "        self.start = n\n",
    "    \n",
    "    def insert_at_last(self, element):\n",
    "        if self.start is None:\n",
    "            self.insert_at_first(element)\n",
    "        else:\n",
    "            temp = self.start\n",
    "            while temp.next is not None:\n",
    "                temp = temp.next\n",
    "            temp.next = Node(element)\n",
    "    \n",
    "    def insert_after(self, targeted, element):\n",
    "        temp = self.start\n",
    "        while temp is not None:\n",
    "            if temp == targeted:\n",
    "                n = Node(element, temp.next)\n",
    "                temp.next = n\n",
    "                return\n",
    "            temp = temp.next\n",
    "        print(\"Target node not found\")\n",
    "    \n",
    "    def delete_from_start(self):\n",
    "        if self.start is None:\n",
    "            print(\"Sorry, deletion is not possible\")\n",
    "            return\n",
    "        self.start = self.start.next\n",
    "    \n",
    "    def delete_from_last(self):\n",
    "        if self.start is None:\n",
    "            print(\"Sorry, deletion is not possible\")\n",
    "            return\n",
    "        if self.start.next is None:\n",
    "            self.start = None\n",
    "            return\n",
    "        temp = self.start\n",
    "        while temp.next.next is not None:\n",
    "            temp = temp.next\n",
    "        temp.next = None\n",
    "    \n",
    "    def delete_after(self, targeted):\n",
    "        if self.start is None or targeted is None or targeted.next is None:\n",
    "            print(\"Sorry, deletion is not possible\")\n",
    "            return\n",
    "        targeted.next = targeted.next.next\n",
    "    \n",
    "    def display(self):\n",
    "        temp = self.start\n",
    "        while temp is not None:\n",
    "            print(temp.data, \"-->\", end=\" \")\n",
    "            temp = temp.next\n",
    "        print(\"None\")\n",
    "l1=SLL()\n",
    "\n",
    "l1.insert_at_first(1)\n",
    "l1.insert_at_first(2)\n",
    "l1.insert_at_first(3)\n",
    "l1.insert_at_first(4)\n",
    "l1.insert_at_first(5)\n",
    "l1.insert_at_first(6)\n",
    "\n",
    "l1.display()"
   ]
  },
  {
   "cell_type": "code",
   "execution_count": null,
   "metadata": {},
   "outputs": [],
   "source": [
    "class Node:\n",
    "\n",
    "    def __init__(self,prev=None,data=None,next=None):\n",
    "        self.prev=prev\n",
    "        self.data=data\n",
    "        self.next=next\n",
    "\n",
    "class DLL:\n",
    "\n",
    "    def __init__(self):\n",
    "        self.start=None\n",
    "    def insert_start(self,element):\n",
    "        n=Node(None,element,self.start)\n",
    "        self.sttart=n\n",
    "    def insert__last(self,element):\n",
    "        temp=self.start\n",
    "        while temp.next != None:\n",
    "            temp=temp.next\n",
    "        n=Node(temp,element,None)\n",
    "        temp.next=n\n",
    "    def insert_after(self,targeted,element):\n",
    "        temp=self.start\n",
    "        while temp != None:\n",
    "            if temp == targeted:\n",
    "                n=Node(temp,element,temp.next)\n",
    "            temp=temp.next\n",
    "        temp.next=n\n",
    "    def delete_start(self):\n",
    "        self.start=self.start.next\n",
    "    def delete_last(self):\n",
    "        temp=self.start\n",
    "        while temp.next != None:\n",
    "            temp=temp.next\n",
    "        temp.next=None\n",
    "    def delete_after(self,targeted):\n",
    "        temp=self.start\n",
    "        while temp != None:\n",
    "            if temp==targeted:\n",
    "                targeted.next=temp\n",
    "            temp=temp.next\n",
    "        targeted.next=targeted.next.next\n",
    "\n",
    "\n",
    "    def display(self):\n",
    "        temp=self.start\n",
    "        while temp != None:\n",
    "            print(temp.items,\"-->\",end=\" \")\n",
    "            temp=temp.next\n",
    "        print()"
   ]
  },
  {
   "cell_type": "code",
   "execution_count": 4,
   "metadata": {},
   "outputs": [],
   "source": [
    "class Node:\n",
    "    def __init__(self, prev=None, data=None, next=None):\n",
    "        self.prev = prev\n",
    "        self.data = data\n",
    "        self.next = next\n",
    "\n",
    "class DLL:\n",
    "    def __init__(self):\n",
    "        self.start = None\n",
    "\n",
    "    def insert_start(self, element):\n",
    "        n = Node(None, element, self.start)\n",
    "        if self.start is not None:\n",
    "            self.start.prev = n\n",
    "        self.start = n\n",
    "    \n",
    "    def insert_last(self, element):\n",
    "        if self.start is None:\n",
    "            self.insert_start(element)\n",
    "            return\n",
    "        temp = self.start\n",
    "        while temp.next is not None:\n",
    "            temp = temp.next\n",
    "        n = Node(temp, element, None)\n",
    "        temp.next = n\n",
    "    \n",
    "    def insert_after(self, targeted, element):\n",
    "        temp = self.start\n",
    "        while temp is not None:\n",
    "            if temp == targeted:\n",
    "                n = Node(temp, element, temp.next)\n",
    "                if temp.next is not None:\n",
    "                    temp.next.prev = n\n",
    "                temp.next = n\n",
    "                return\n",
    "            temp = temp.next\n",
    "        print(\"Target node not found\")\n",
    "    \n",
    "    def delete_start(self):\n",
    "        if self.start is None:\n",
    "            print(\"List is empty. Deletion not possible.\")\n",
    "            return\n",
    "        self.start = self.start.next\n",
    "        if self.start is not None:\n",
    "            self.start.prev = None\n",
    "    \n",
    "    def delete_last(self):\n",
    "        if self.start is None:\n",
    "            print(\"List is empty. Deletion not possible.\")\n",
    "            return\n",
    "        temp = self.start\n",
    "        if temp.next is None:\n",
    "            self.start = None\n",
    "            return\n",
    "        while temp.next is not None:\n",
    "            temp = temp.next\n",
    "        temp.prev.next = None\n",
    "    \n",
    "    def delete_after(self, targeted):\n",
    "        temp = self.start\n",
    "        while temp is not None:\n",
    "            if temp == targeted and temp.next is not None:\n",
    "                temp.next = temp.next.next\n",
    "                if temp.next is not None:\n",
    "                    temp.next.prev = temp\n",
    "                return\n",
    "            temp = temp.next\n",
    "        print(\"Target node not found or no node to delete after.\")\n",
    "    \n",
    "    def display(self):\n",
    "        temp = self.start\n",
    "        while temp is not None:\n",
    "            print(temp.data, \"-->\", end=\" \")\n",
    "            temp = temp.next\n",
    "        print(\"None\")\n"
   ]
  },
  {
   "cell_type": "code",
   "execution_count": null,
   "metadata": {},
   "outputs": [],
   "source": []
  }
 ],
 "metadata": {
  "kernelspec": {
   "display_name": "Python 3",
   "language": "python",
   "name": "python3"
  },
  "language_info": {
   "codemirror_mode": {
    "name": "ipython",
    "version": 3
   },
   "file_extension": ".py",
   "mimetype": "text/x-python",
   "name": "python",
   "nbconvert_exporter": "python",
   "pygments_lexer": "ipython3",
   "version": "3.12.9"
  }
 },
 "nbformat": 4,
 "nbformat_minor": 2
}
