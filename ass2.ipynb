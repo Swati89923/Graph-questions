{
 "cells": [
  {
   "cell_type": "markdown",
   "metadata": {},
   "source": [
    "# q no. 1 \n",
    " Manually write the 3 ways of representing graphs in python."
   ]
  },
  {
   "cell_type": "code",
   "execution_count": 1,
   "metadata": {},
   "outputs": [
    {
     "data": {
      "text/plain": [
       "{'s1': ['s2', 's5'],\n",
       " 's2': ['s5', 's1', 's3'],\n",
       " 's3': ['s2', 's4'],\n",
       " 's4': ['s3'],\n",
       " 's5': ['s2', 's1']}"
      ]
     },
     "execution_count": 1,
     "metadata": {},
     "output_type": "execute_result"
    }
   ],
   "source": [
    "def adj_list(my_list):\n",
    "    return my_list\n",
    "my_list={\"s1\":[\"s2\",\"s5\"], \"s2\": [\"s5\",\"s1\",\"s3\"], \"s3\":[\"s2\",\"s4\"],\"s4\":[\"s3\"], \"s5\": [\"s2\",\"s1\"]}\n",
    "adj_list(my_list)"
   ]
  },
  {
   "cell_type": "code",
   "execution_count": 2,
   "metadata": {},
   "outputs": [
    {
     "data": {
      "text/plain": [
       "([0, 1, 0, 0], [1, 0, 1, 0], [0, 1, 0, 1], [0, 0, 1, 0])"
      ]
     },
     "execution_count": 2,
     "metadata": {},
     "output_type": "execute_result"
    }
   ],
   "source": [
    "def adj_matrix(my_matrx):\n",
    "    return my_matrx\n",
    "my_matrix=[0, 1, 0, 0],[1, 0, 1, 0],[0, 1, 0, 1],[0, 0, 1, 0]\n",
    "adj_matrix(my_matrix)"
   ]
  },
  {
   "cell_type": "code",
   "execution_count": 3,
   "metadata": {},
   "outputs": [
    {
     "data": {
      "text/plain": [
       "[(0, 1), (1, 2), (2, 3)]"
      ]
     },
     "execution_count": 3,
     "metadata": {},
     "output_type": "execute_result"
    }
   ],
   "source": [
    "def edge_list(my_list):\n",
    "    return my_list\n",
    "my_list=[(0, 1), (1, 2), (2, 3)]\n",
    "edge_list(my_list)"
   ]
  },
  {
   "cell_type": "markdown",
   "metadata": {},
   "source": [
    "# Q no. 2\n",
    " Write a code to find the degree of each vertex."
   ]
  },
  {
   "cell_type": "code",
   "execution_count": 4,
   "metadata": {},
   "outputs": [
    {
     "name": "stdout",
     "output_type": "stream",
     "text": [
      "{'s1': 2, 's2': 3, 's3': 2, 's4': 1, 's5': 2}\n"
     ]
    }
   ],
   "source": [
    "def find_degree(my_list):\n",
    "    degree= {node: len(neighbour) for node,neighbour in my_list.items()}\n",
    "    return degree\n",
    "graph={\"s1\":[\"s2\",\"s5\"], \"s2\": [\"s5\",\"s1\",\"s3\"], \"s3\":[\"s2\",\"s4\"],\"s4\":[\"s3\"], \"s5\": [\"s2\",\"s1\"]}\n",
    "print(find_degree(graph))\n"
   ]
  },
  {
   "cell_type": "markdown",
   "metadata": {},
   "source": [
    "# Q NO. 3\n",
    "\n",
    "Write a code to inter-convert these 3 graph representations."
   ]
  },
  {
   "cell_type": "code",
   "execution_count": 2,
   "metadata": {},
   "outputs": [
    {
     "data": {
      "text/plain": [
       "{0: [1], 1: [0, 2], 2: [1, 3], 3: [2]}"
      ]
     },
     "execution_count": 2,
     "metadata": {},
     "output_type": "execute_result"
    }
   ],
   "source": [
    "# adj_matrix to adj list\n",
    "\n",
    "def adj_matrix_list(matrx):\n",
    "    adj_list={}\n",
    "    for i in range(len(matrx)):\n",
    "        adj_list[i]=[]\n",
    "        for j in range (len(matrx[i])):\n",
    "            if matrx[i][j]==1:\n",
    "                adj_list[i].append(j)\n",
    "    return adj_list\n",
    "matrx=[0, 1, 0, 0],[1, 0, 1, 0],[0, 1, 0, 1],[0, 0, 1, 0]\n",
    "adj_matrix_list(matrx)"
   ]
  },
  {
   "cell_type": "code",
   "execution_count": 19,
   "metadata": {},
   "outputs": [
    {
     "data": {
      "text/plain": [
       "[[0, 1, 0, 0, 1],\n",
       " [1, 0, 1, 0, 1],\n",
       " [0, 1, 0, 1, 0],\n",
       " [0, 0, 1, 0, 0],\n",
       " [1, 1, 0, 0, 0]]"
      ]
     },
     "execution_count": 19,
     "metadata": {},
     "output_type": "execute_result"
    }
   ],
   "source": [
    "# convert adj list to matrix\n",
    "def list_to_matrix(adj_list):\n",
    "    size = max(adj_list)\n",
    "    matrix = [[0] * size for n in range(size)]  \n",
    "\n",
    "    for node in adj_list:  \n",
    "        for neighbor in adj_list[node]:  \n",
    "            matrix[node-1][neighbor-1] = 1  \n",
    "\n",
    "    return matrix\n",
    "\n",
    "my_list = {1: [2, 5], 2: [5, 1, 3], 3: [2, 4], 4: [3], 5: [2, 1]}\n",
    "list_to_matrix(my_list)"
   ]
  },
  {
   "cell_type": "code",
   "execution_count": null,
   "metadata": {},
   "outputs": [
    {
     "data": {
      "text/plain": [
       "{0: [1], 1: [0, 2], 2: [1, 3], 3: [2]}"
      ]
     },
     "execution_count": 31,
     "metadata": {},
     "output_type": "execute_result"
    }
   ],
   "source": [
    "\n",
    "#convert eddge list to adjacency list\n",
    "def edge_list_adj_list(edge_list): #[(u,v)]\n",
    "     adj_list = {}\n",
    "     for u, v in edge_list:\n",
    "        if u not in adj_list:\n",
    "            adj_list[u] = []\n",
    "        if v not in adj_list:\n",
    "            adj_list[v] = []\n",
    "        adj_list[u].append(v)\n",
    "        adj_list[v].append(u)  # Undirected graph\n",
    "     return adj_list\n",
    "edge_list_adj_list([(0, 1), (1, 2), (2, 3)])"
   ]
  },
  {
   "cell_type": "markdown",
   "metadata": {},
   "source": [
    "## CONVERSION ADjancency LIST"
   ]
  },
  {
   "cell_type": "code",
   "execution_count": null,
   "metadata": {},
   "outputs": [
    {
     "data": {
      "text/plain": [
       "[(0, 1), (1, 2), (2, 3)]"
      ]
     },
     "execution_count": 32,
     "metadata": {},
     "output_type": "execute_result"
    }
   ],
   "source": [
    "\n",
    "# convert adjacency list to edge list\n",
    "def adj_list_to_edge_list(adjacency_list):\n",
    "   edge_list=[]\n",
    "   for node,neighbors in adjacency_list.items():\n",
    "        for neighbor in neighbors:\n",
    "            if (neighbor, node) not in edge_list:  # Avoid duplicate edges\n",
    "                edge_list.append((node, neighbor))\n",
    "   return edge_list\n",
    "adj_list_to_edge_list({0: [1], 1: [0, 2], 2: [1, 3], 3: [2]})"
   ]
  },
  {
   "cell_type": "code",
   "execution_count": 1,
   "metadata": {},
   "outputs": [
    {
     "data": {
      "text/plain": [
       "[[0, 1, 0, 0], [1, 0, 1, 0], [0, 1, 0, 1], [0, 0, 1, 0]]"
      ]
     },
     "execution_count": 1,
     "metadata": {},
     "output_type": "execute_result"
    }
   ],
   "source": [
    "#edge list to adj_matx\n",
    "# convert edge list to adj matrix\n",
    "\n",
    "def edge_list_adj_matrx(edge_list,n):\n",
    "    \n",
    "    adj_matrix = [[0] * n for _ in range(n)]\n",
    "    for u, v in edge_list:\n",
    "        adj_matrix[u][v] = 1\n",
    "        adj_matrix[v][u] = 1  # Undirected graph\n",
    "    return adj_matrix\n",
    "edge_list_adj_matrx([(0, 1), (1, 2), (2, 3)],4)\n"
   ]
  },
  {
   "cell_type": "code",
   "execution_count": 35,
   "metadata": {},
   "outputs": [
    {
     "name": "stdout",
     "output_type": "stream",
     "text": [
      "[(0, 1), (1, 2), (2, 3)]\n"
     ]
    }
   ],
   "source": [
    "def adj_matrix_to_edge_list(adj_matrix):\n",
    "    edge_list = []\n",
    "    size = len(adj_matrix)\n",
    "\n",
    "    for i in range(size):  \n",
    "        for j in range(i + 1, size):  # to avoid duplicate edges\n",
    "            if adj_matrix[i][j] == 1:  \n",
    "                edge_list.append((i, j))\n",
    "\n",
    "    return edge_list\n",
    "matrix = [[0, 1, 0, 0], [1, 0, 1, 0], [0, 1, 0, 1], [0, 0, 1, 0]]\n",
    "\n",
    "print(adj_matrix_to_edge_list(matrix))\n"
   ]
  },
  {
   "cell_type": "markdown",
   "metadata": {},
   "source": [
    "# Q 4: Given a graph and two vertices, check if they are adjacent.\n"
   ]
  },
  {
   "cell_type": "code",
   "execution_count": 36,
   "metadata": {},
   "outputs": [
    {
     "data": {
      "text/plain": [
       "'adjacent'"
      ]
     },
     "execution_count": 36,
     "metadata": {},
     "output_type": "execute_result"
    }
   ],
   "source": [
    "def check_adjacent(adj_list,u,v):\n",
    "   for key in adj_list:\n",
    "      for value in adj_list[key]:\n",
    "         if key==u and  v in value:\n",
    "            return \"adjacent\"\n",
    "   else:\n",
    "            return \"not adjacent\"\n",
    "         \n",
    "check_adjacent({\"s1\":[\"s2\",\"s5\"], \"s2\": [\"s5\",\"s1\",\"s3\"], \"s3\":[\"s2\",\"s4\"],\"s4\":[\"s3\"], \"s5\": [\"s2\",\"s1\"]},\"s1\",\"s2\")"
   ]
  },
  {
   "cell_type": "markdown",
   "metadata": {},
   "source": [
    "# Q5. Check if a graph is complete."
   ]
  },
  {
   "cell_type": "code",
   "execution_count": 37,
   "metadata": {},
   "outputs": [
    {
     "data": {
      "text/plain": [
       "' complete'"
      ]
     },
     "execution_count": 37,
     "metadata": {},
     "output_type": "execute_result"
    }
   ],
   "source": [
    "def check_complete(adj_list):\n",
    "    for key,value in adj_list.items():\n",
    "      \"\"\" if value in adj_list.items():\n",
    "         for i in adj\"\"\"\n",
    "      if len(value) != len(adj_list)-1:\n",
    "                return \"not complete\"\n",
    "    else:\n",
    "        return \" complete\"\n",
    "adj_list1={\"s1\":[\"s2\",\"s3\",\"s4\",\"s5\"], \"s2\": [\"s5\",\"s1\",\"s3\",\"s4\"], \"s3\":[\"s1\",\"s2\",\"s4\",\"s5\"],\"s4\":[\"s5\",\"s1\",\"s2\",\"s3\"], \"s5\": [\"s3\",\"s4\",\"s2\",\"s1\"]}\n",
    "check_complete(adj_list1)\n"
   ]
  },
  {
   "cell_type": "markdown",
   "metadata": {},
   "source": [
    "# Q6.  Check if a graph is connected.\n"
   ]
  },
  {
   "cell_type": "code",
   "execution_count": 12,
   "metadata": {},
   "outputs": [
    {
     "name": "stdout",
     "output_type": "stream",
     "text": [
      "Graph 1 is Connected: True\n",
      "Graph 2 is Connected: False\n",
      "Graph 3 is Connected: True\n"
     ]
    }
   ],
   "source": [
    "# Function to check if the graph is connected using BFS\n",
    "def is_connected(graph):\n",
    "    nodes = len(graph)  # Number of nodes in the graph\n",
    "    \n",
    "    if nodes == 0:\n",
    "        return True  # An empty graph is considered connected\n",
    "\n",
    "    queue = [0]  # Start BFS from node 0\n",
    "    visited = [-1] * nodes  # Initialize visited list with -1 (unvisited)\n",
    "    visited[0] = 0  # Mark the first node as visited\n",
    "    front = 0  # Pointer for queue traversal\n",
    "\n",
    "    while front < len(queue):  # Standard BFS loop\n",
    "        current = queue[front]\n",
    "        front += 1  # Move to the next node in queue\n",
    "\n",
    "        for i in range(nodes):  # Check all possible neighbors\n",
    "            if graph[current][i] == 1:  # If there's an edge\n",
    "                if visited[i] == -1:  # If the node is not visited\n",
    "                    visited[i] = 0  # Mark as visited\n",
    "                    queue.append(i)  # Add it to the queue\n",
    "\n",
    "    # Check if all nodes were visited\n",
    "    for i in range(nodes):\n",
    "        if visited[i] == -1:\n",
    "            return False  # If any node is unvisited, graph is disconnected\n",
    "\n",
    "    return True  # All nodes were visited, so it's connected\n",
    "\n",
    "\n",
    "# **Example Graphs (Adjacency Matrix Representation)**\n",
    "graph1 = [\n",
    "    [0, 1, 1, 0, 0],  #  Connected graph\n",
    "    [1, 0, 0, 1, 0],\n",
    "    [1, 0, 0, 1, 0],\n",
    "    [0, 1, 1, 0, 1],\n",
    "    [0, 0, 0, 1, 0]\n",
    "]\n",
    "\n",
    "graph2 = [\n",
    "    [0, 1, 0, 0],  #  Not connected (Node 2 & 3 are isolated)\n",
    "    [1, 0, 0, 0],\n",
    "    [0, 0, 0, 1],\n",
    "    [0, 0, 1, 0]\n",
    "]\n",
    "\n",
    "graph3 = []  # Empty graph (considered connected)\n",
    "\n",
    "# **Testing**\n",
    "print(\"Graph 1 is Connected:\", is_connected(graph1))  # True\n",
    "print(\"Graph 2 is Connected:\", is_connected(graph2))  # False\n",
    "print(\"Graph 3 is Connected:\", is_connected(graph3))  # True\n",
    "\n",
    "    "
   ]
  },
  {
   "cell_type": "markdown",
   "metadata": {},
   "source": [
    "# Q7.  Given a graph and a list of vertices, check if it forms a walk, or a trail or a path or none of these"
   ]
  },
  {
   "cell_type": "code",
   "execution_count": null,
   "metadata": {},
   "outputs": [
    {
     "ename": "NameError",
     "evalue": "name 'check_adjacent' is not defined",
     "output_type": "error",
     "traceback": [
      "\u001b[1;31m---------------------------------------------------------------------------\u001b[0m",
      "\u001b[1;31mNameError\u001b[0m                                 Traceback (most recent call last)",
      "Cell \u001b[1;32mIn[2], line 16\u001b[0m\n\u001b[0;32m     12\u001b[0m                      \u001b[38;5;28;01mreturn\u001b[39;00m \u001b[38;5;124m'\u001b[39m\u001b[38;5;124mNot a walk\u001b[39m\u001b[38;5;124m'\u001b[39m\n\u001b[0;32m     13\u001b[0m        \u001b[38;5;28;01mreturn\u001b[39;00m \u001b[38;5;124m'\u001b[39m\u001b[38;5;124mList of vertices is walk\u001b[39m\u001b[38;5;124m'\u001b[39m\n\u001b[1;32m---> 16\u001b[0m \u001b[43mcheck_walk\u001b[49m\u001b[43m(\u001b[49m\u001b[43m[\u001b[49m\u001b[38;5;241;43m1\u001b[39;49m\u001b[43m,\u001b[49m\u001b[38;5;241;43m2\u001b[39;49m\u001b[43m,\u001b[49m\u001b[38;5;241;43m4\u001b[39;49m\u001b[43m,\u001b[49m\u001b[38;5;241;43m3\u001b[39;49m\u001b[43m,\u001b[49m\u001b[38;5;241;43m1\u001b[39;49m\u001b[43m]\u001b[49m\u001b[43m)\u001b[49m\n",
      "Cell \u001b[1;32mIn[2], line 9\u001b[0m, in \u001b[0;36mcheck_walk\u001b[1;34m(list1)\u001b[0m\n\u001b[0;32m      7\u001b[0m \u001b[38;5;28;01mfor\u001b[39;00m i \u001b[38;5;129;01min\u001b[39;00m converted_tuple:\n\u001b[0;32m      8\u001b[0m        u,v \u001b[38;5;241m=\u001b[39m i\n\u001b[1;32m----> 9\u001b[0m        \u001b[38;5;28;01mif\u001b[39;00m \u001b[43mcheck_adjacent\u001b[49m(u,v):\n\u001b[0;32m     10\u001b[0m               \u001b[38;5;28;01mcontinue\u001b[39;00m\n\u001b[0;32m     11\u001b[0m        \u001b[38;5;28;01melse\u001b[39;00m:\n",
      "\u001b[1;31mNameError\u001b[0m: name 'check_adjacent' is not defined"
     ]
    }
   ],
   "source": []
  },
  {
   "cell_type": "code",
   "execution_count": 3,
   "metadata": {},
   "outputs": [
    {
     "data": {
      "text/plain": [
       "'list of vertices is trail'"
      ]
     },
     "execution_count": 3,
     "metadata": {},
     "output_type": "execute_result"
    }
   ],
   "source": [
    "def check_trail(list1):\n",
    "       converted_tuple= []\n",
    "       for i in range(len(list1)):\n",
    "              if i < len(list1)-1:\n",
    "                     converted_tuple.append((list1[i], list1[i+1]))\n",
    "\n",
    "       if len(converted_tuple) == len(set(converted_tuple)):\n",
    "              return 'list of vertices is trail'\n",
    "       else:\n",
    "              return 'list of vertices is not trail'\n",
    "\n",
    "       \n",
    "check_trail([1,2,4,5,4,2])"
   ]
  },
  {
   "cell_type": "code",
   "execution_count": 4,
   "metadata": {},
   "outputs": [
    {
     "data": {
      "text/plain": [
       "'list of vertices is path'"
      ]
     },
     "execution_count": 4,
     "metadata": {},
     "output_type": "execute_result"
    }
   ],
   "source": [
    "def check_path(list1):\n",
    "       converted_tuple= []\n",
    "       for i in range(len(list1)):\n",
    "              if i < len(list1)-1:\n",
    "                     converted_tuple.append((list1[i], list1[i+1]))\n",
    "\n",
    "       if len(converted_tuple) == len(set(converted_tuple)) and len(list1)==len(set(list1)) :\n",
    "              return 'list of vertices is path'\n",
    "       else:\n",
    "              return 'list of vertices is not path'\n",
    "\n",
    "       \n",
    "check_path([1,2,4,5])"
   ]
  },
  {
   "cell_type": "markdown",
   "metadata": {},
   "source": [
    "# Q 8. Check if a given graph is a tree.\n"
   ]
  },
  {
   "cell_type": "code",
   "execution_count": null,
   "metadata": {},
   "outputs": [],
   "source": []
  },
  {
   "cell_type": "code",
   "execution_count": null,
   "metadata": {},
   "outputs": [],
   "source": [
    "def check_tree(my_sequence):"
   ]
  }
 ],
 "metadata": {
  "kernelspec": {
   "display_name": "Python 3",
   "language": "python",
   "name": "python3"
  },
  "language_info": {
   "codemirror_mode": {
    "name": "ipython",
    "version": 3
   },
   "file_extension": ".py",
   "mimetype": "text/x-python",
   "name": "python",
   "nbconvert_exporter": "python",
   "pygments_lexer": "ipython3",
   "version": "3.12.10"
  }
 },
 "nbformat": 4,
 "nbformat_minor": 2
}
