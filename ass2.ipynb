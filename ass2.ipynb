{
 "cells": [
  {
   "cell_type": "markdown",
   "metadata": {},
   "source": [
    "# Q no. 1\n",
    "Write a code to find the degree of each vertex, and store it in a dictionary. Sort the keys of the dictionary by the degree stored in the values.\n",
    "* Basically we will give the lengtth of values as degree"
   ]
  },
  {
   "cell_type": "code",
   "execution_count": null,
   "metadata": {},
   "outputs": [
    {
     "name": "stdout",
     "output_type": "stream",
     "text": [
      "{'s4': 1, 's1': 2, 's3': 2, 's5': 2, 's2': 3}\n"
     ]
    }
   ],
   "source": [
    "# function to find  and return vertex degrees sorted by degree value\n",
    "def find_degree(my_list):\n",
    "    # firstly create a dictionary with node degrees\n",
    "    degree = {node: len(neighbour) for node, neighbour in my_list.items()}\n",
    "    \n",
    "    # taking a helper function to return the degree ( value from key-value pair)\n",
    "    # item[0] is the node name, item[1] is the degree\n",
    "    def get_degree(item):\n",
    "        return item[1]  # We sort based on degree, which is our value part\n",
    "    \n",
    "    #Now  we will sort our  dictionary by degree using the helper function\n",
    "    sorted_items = sorted(degree.items(), key=get_degree)\n",
    "    sorted_degree = dict(sorted_items)\n",
    "    \n",
    "    return sorted_degree\n",
    "\n",
    "# takin sample graph (adjacency list)\n",
    "graph = {\"s1\": [\"s2\", \"s5\"],\"s2\": [\"s5\", \"s1\", \"s3\"],\"s3\": [\"s2\", \"s4\"],\"s4\": [\"s3\"],\"s5\": [\"s2\", \"s1\"]}\n",
    "\n",
    "# Finally print sorted degrees\n",
    "print(find_degree(graph))\n"
   ]
  },
  {
   "cell_type": "markdown",
   "metadata": {},
   "source": [
    "# Q no. 2\n",
    "Write a code to inter-convert the 3 graph representations we have learnt. \n",
    "We will do here interconversion between three main graph reprentation \n",
    "* Adjacency List\n",
    "* Adjacency Mtrix\n",
    "* Edge List"
   ]
  },
  {
   "cell_type": "code",
   "execution_count": 3,
   "metadata": {},
   "outputs": [
    {
     "name": "stdout",
     "output_type": "stream",
     "text": [
      "{0: [1], 1: [0, 2], 2: [1, 3], 3: [2]}\n",
      "[[0, 1, 0, 0, 1], [1, 0, 1, 0, 1], [0, 1, 0, 1, 0], [0, 0, 1, 0, 0], [1, 1, 0, 0, 0]]\n",
      "{0: [1], 1: [0, 2], 2: [1, 3], 3: [2]}\n",
      "[(0, 1), (1, 2), (2, 3)]\n",
      "[[0, 1, 0, 0], [1, 0, 1, 0], [0, 1, 0, 1], [0, 0, 1, 0]]\n",
      "[(0, 1), (1, 2), (2, 3)]\n"
     ]
    }
   ],
   "source": [
    "# 1. We will convert Adjacency Matrix to Adjacency List\n",
    "def adj_matrix_list(matrx):\n",
    "    adj_list = {}  # we will create an empty dictionary to store the adjacency list\n",
    "    for i in range(len(matrx)):  # Loop through each row (node)\n",
    "        adj_list[i] = []  # Initialize an empty list for each node\n",
    "        for j in range(len(matrx[i])):  # Loop through each column (possible connection)\n",
    "            if matrx[i][j] == 1:  # If there is a 1, it means there is an edge from i to j\n",
    "                adj_list[i].append(j)  # Add j as a neighbor of i\n",
    "    return adj_list  # now return the complete adjacency list\n",
    "\n",
    "matrx = [[0, 1, 0, 0], \n",
    "         [1, 0, 1, 0], \n",
    "         [0, 1, 0, 1], \n",
    "         [0, 0, 1, 0]]\n",
    "print(adj_matrix_list(matrx))  \n",
    "\n",
    "\n",
    "# 2. We will convert Adjacency List to Adjacency Matrix\n",
    "def list_to_matrix(adj_list):\n",
    "    size = max(adj_list) + 1  # firstly determine the number of nodes (largest index + 1)\n",
    "    matrix = [[0] * size for _ in range(size)]  # Create an empty matrix of 0s\n",
    "\n",
    "    for node in adj_list:  # Loop through each node in the list\n",
    "        for neighbor in adj_list[node]:  # For each neighbor of the node\n",
    "            matrix[node][neighbor] = 1  # Set matrix entry to 1 where an edge exists\n",
    "\n",
    "    return matrix  # now we will return the completed matrix\n",
    "\n",
    "my_list = {0: [1, 4], 1: [4, 0, 2], 2: [1, 3], 3: [2], 4: [1, 0]}\n",
    "print(list_to_matrix(my_list))  \n",
    "\n",
    "\n",
    "# 3. We will convert Edge List to Adjacency List\n",
    "def edge_list_adj_list(edge_list):\n",
    "    adj_list = {}  # firstly take an empty dictionary to store adjacency list\n",
    "    for u, v in edge_list:  # Loop through each edge (u to v)\n",
    "        if u not in adj_list:\n",
    "            adj_list[u] = []  # initialize if not present\n",
    "        if v not in adj_list:\n",
    "            adj_list[v] = []  # initialize if not present\n",
    "        adj_list[u].append(v)  # Add v to u's neighbor list\n",
    "        adj_list[v].append(u)  # Add u to v's neighbor list (undirected)\n",
    "    return adj_list\n",
    "\n",
    "print(edge_list_adj_list([(0, 1), (1, 2), (2, 3)]))\n",
    "\n",
    "\n",
    "# 4. we will convert Adjacency List to Edge List\n",
    "def adj_list_to_edge_list(adjacency_list):\n",
    "    edge_list = []  # initialise an empty list to store edges\n",
    "    for node, neighbors in adjacency_list.items():  # Loop over each node and its neighbors\n",
    "        for neighbor in neighbors:\n",
    "            # to avoid adding the same edge twice, only add if reverse isn't already in list\n",
    "            if (neighbor, node) not in edge_list:\n",
    "                edge_list.append((node, neighbor))\n",
    "    return edge_list\n",
    "\n",
    "print(adj_list_to_edge_list({0: [1], 1: [0, 2], 2: [1, 3], 3: [2]}))  # Test function\n",
    "\n",
    "\n",
    "# 5. We will convert Edge List to Adjacency Matrix\n",
    "def edge_list_adj_matrx(edge_list, n):\n",
    "    adj_matrix = [[0] * n for _ in range(n)]  # Create a matrix of 0s (n x n)\n",
    "    for u, v in edge_list:\n",
    "        adj_matrix[u][v] = 1  # Set 1 where there is an edge\n",
    "        adj_matrix[v][u] = 1  # also set reverse for undirected graph\n",
    "    return adj_matrix\n",
    "\n",
    "print(edge_list_adj_matrx([(0, 1), (1, 2), (2, 3)], 4))  # Test function\n",
    "\n",
    "\n",
    "# 6. we will convert Adjacency Matrix to Edge List\n",
    "def adj_matrix_to_edge_list(adj_matrix):\n",
    "    edge_list = []  # take an empty list to store edges\n",
    "    size = len(adj_matrix)  # Number of nodes\n",
    "\n",
    "    for i in range(size):\n",
    "        for j in range(i + 1, size):  # we are starting from i+1 to avoid repeating (i, j) and (j, i)\n",
    "            if adj_matrix[i][j] == 1:\n",
    "                edge_list.append((i, j))  # we will add edge only once\n",
    "    return edge_list\n",
    "\n",
    "matrix = [[0, 1, 0, 0], \n",
    "          [1, 0, 1, 0], \n",
    "          [0, 1, 0, 1], \n",
    "          [0, 0, 1, 0]]\n",
    "\n",
    "print(adj_matrix_to_edge_list(matrix))  \n"
   ]
  },
  {
   "cell_type": "markdown",
   "metadata": {},
   "source": [
    "# Q no. 3\n",
    "Given a graph and two vertices, check if they are adjacent. \n",
    "I will chheck two nodes are adjacent or not in adjacency list \n",
    "By checking if we have given two nodes u and v:\n",
    "* if u is node then v should be in neighbour\n",
    "* if v is node then u should be in neighbour"
   ]
  },
  {
   "cell_type": "code",
   "execution_count": null,
   "metadata": {},
   "outputs": [
    {
     "name": "stdout",
     "output_type": "stream",
     "text": [
      "adjacent\n"
     ]
    }
   ],
   "source": [
    "# function to check if two given vertices are adjacent (connected directly by an edge)\n",
    "def check_adjacent(adj_list, u, v):\n",
    "    # We go through each node in the adjacency list\n",
    "    for key in adj_list:\n",
    "        # We check if the current node is the one we are looking for (u)\n",
    "        if key == u:\n",
    "            # Then we check if the other node (v) is present in u’s neighbor list\n",
    "            if v in adj_list[key]:\n",
    "                return \"adjacent\"  # If found, we say they are adjacent\n",
    "    # If we go through everything and don’t find it, we return not adjacent\n",
    "    return \"not adjacent\"\n",
    "\n",
    "# Test the function with a sample graph\n",
    "print(check_adjacent({\"s1\": [\"s2\", \"s5\"], \"s2\": [\"s5\", \"s1\", \"s3\"], \"s3\": [\"s2\", \"s4\"], \"s4\": [\"s3\"], \"s5\": [\"s2\", \"s1\"]}, \"s1\", \"s2\"))\n"
   ]
  },
  {
   "cell_type": "markdown",
   "metadata": {},
   "source": [
    "# Q no. 4\n",
    "Check if a graph is complete\n",
    "* each node should be connected to every other nodes\n",
    "* condition will be degree of each node is one less than the total number of nodes \n",
    "\n",
    "  "
   ]
  },
  {
   "cell_type": "code",
   "execution_count": null,
   "metadata": {},
   "outputs": [
    {
     "name": "stdout",
     "output_type": "stream",
     "text": [
      "complete\n"
     ]
    }
   ],
   "source": [
    "# function to check if the graph is complete\n",
    "def check_complete(adj_list):\n",
    "    # We go through each node (key) and its neighbors (value)\n",
    "    for key, value in adj_list.items():\n",
    "        # We check if the number of neighbors of each node is equal to the total number of nodes - 1\n",
    "        # (because the node should be connected to all other nodes except itself)\n",
    "        if len(value) != len(adj_list) - 1:\n",
    "            return \"not complete\"  # If any node doesn't have the correct number of neighbors, it's not complete\n",
    "    # If all nodes have the correct number of neighbors, then the graph is complete\n",
    "    return \"complete\"\n",
    "\n",
    "\n",
    "adj_list1 = {\"s1\": [\"s2\", \"s3\", \"s4\", \"s5\"],\"s2\": [\"s5\", \"s1\", \"s3\", \"s4\"],\"s3\": [\"s1\", \"s2\", \"s4\", \"s5\"],\"s4\": [\"s5\", \"s1\", \"s2\", \"s3\"],\"s5\": [\"s3\", \"s4\", \"s2\", \"s1\"]}\n",
    "print(check_complete(adj_list1))  \n"
   ]
  },
  {
   "cell_type": "markdown",
   "metadata": {},
   "source": [
    "# Q no. 5\n",
    "Check if a graph is connected.\n",
    "* Every vertex must be reachable from every other vertex, either directly or through other vertices.\n",
    "\n",
    "We will basically check for connectivity\n",
    "* If we can visit all vertices starting from vertex 0, then the graph is connected.\n",
    "\n",
    "* If any vertex is unvisited after the traversal, it means there is no path to that vertex, and the graph is disconnected."
   ]
  },
  {
   "cell_type": "code",
   "execution_count": null,
   "metadata": {},
   "outputs": [
    {
     "name": "stdout",
     "output_type": "stream",
     "text": [
      "Graph 1 is Connected: True\n"
     ]
    }
   ],
   "source": [
    "# function to check if the graph is connected using BFS\n",
    "def is_connected(graph):\n",
    "    nodes = len(graph)  # Number of nodes in the graph\n",
    "    \n",
    "    # If there are no nodes, the graph is disconnected\n",
    "    if nodes == 0:\n",
    "        return False  # An empty graph is not considered connected\n",
    "\n",
    "    queue = [0]  # Start BFS from node 0\n",
    "    visited = [-1] * nodes  # Initialize visited list with -1 (unvisited)\n",
    "    visited[0] = 1  # Mark the first node as visited (using 1 for visited)\n",
    "    front = 0  # Pointer for queue traversal\n",
    "\n",
    "    while front < len(queue):\n",
    "        current = queue[front]\n",
    "        front += 1  # Move to the next node in queue\n",
    "\n",
    "        # Check all possible neighbors\n",
    "        for i in range(nodes):\n",
    "            if graph[current][i] == 1:  # If there's an edge between current and i\n",
    "                if visited[i] == -1:  # If the node is not visited\n",
    "                    visited[i] = 1  # Mark as visited\n",
    "                    queue.append(i)  # Add it to the queue\n",
    "\n",
    "    # After BFS, check if all nodes were visited\n",
    "    for i in range(nodes):\n",
    "        if visited[i] == -1:\n",
    "            return False  # If any node is unvisited, graph is disconnected\n",
    "\n",
    "    return True  # All nodes were visited, so the graph is connected\n",
    "\n",
    "\n",
    "# Example Graphs (Adjacency Matrix Representation)\n",
    "graph1 = [[0, 1, 1, 0, 0], [1, 0, 0, 1, 0], [1, 0, 0, 1, 0],[0, 1, 1, 0, 1],[0, 0, 0, 1, 0]]\n",
    "print(\"Graph 1 is Connected:\", is_connected(graph1))  # Expected: True\n",
    "\n"
   ]
  },
  {
   "cell_type": "markdown",
   "metadata": {},
   "source": [
    "# Q no. 6\n",
    "Given a graph and a list of vertices, check if it forms a walk, or a trail or a path or none of these.\n",
    "* Walk\n",
    "\n",
    "Repeated edges and vertices allowed.Consecutive vertices must be connected by an edge.\n",
    "\n",
    "* Trail\n",
    "\n",
    "Repeated vertices allowed, but no repeated edges.\n",
    "\n",
    "Consecutive vertices must be connected by an edge.\n",
    "\n",
    "\n",
    "* Path \n",
    "\n",
    "No repeated edges or vertices.\n",
    "\n",
    "Consecutive vertices must be connected by an edge.\n",
    "\n",
    "\n",
    "\n"
   ]
  },
  {
   "cell_type": "code",
   "execution_count": 29,
   "metadata": {},
   "outputs": [
    {
     "name": "stdout",
     "output_type": "stream",
     "text": [
      "Not a walk\n",
      "List of vertices is trail\n",
      "List of vertices is path\n"
     ]
    }
   ],
   "source": [
    "# defining a fncn of check_adjacent()\n",
    "def check_adjacent(u, v):\n",
    "    # Example graph representation as adjacency list (you can modify this as needed)\n",
    "    graph = {1: [2, 4],2: [1, 4], 4: [1, 2, 5],5: [4]}\n",
    "    \n",
    "    # Check if v is in the adjacency list of u\n",
    "    if v in graph[u]:\n",
    "        return True\n",
    "    else:\n",
    "        return False\n",
    "\n",
    "\n",
    "# defining a funcn  to check if the list of vertices forms a Walk\n",
    "def check_walk(list1):\n",
    "    # Convert list of vertices into a list of edges (tuples of consecutive vertices)\n",
    "    converted_tuple = []\n",
    "    for i in range(len(list1)):\n",
    "        if i < len(list1)-1:  # Check until the second last element\n",
    "            converted_tuple.append((list1[i], list1[i+1]))  # Create a tuple of consecutive vertices\n",
    "\n",
    "    # Check if each pair of vertices (edge) is adjacent in the graph\n",
    "    for i in converted_tuple:\n",
    "        u, v = i\n",
    "        if check_adjacent(u, v):  # If adjacent, continue checking\n",
    "            continue\n",
    "        else:\n",
    "            return 'Not a walk'  # If any edge is not adjacent, it's not a walk\n",
    "    return 'List of vertices is walk'  # If all edges are valid, it's a walk\n",
    "\n",
    "\n",
    "#defining a funcn  to check if the list of vertices forms a Trail\n",
    "def check_trail(list1):\n",
    "    # Convert list of vertices into a list of edges (tuples of consecutive vertices)\n",
    "    converted_tuple = []\n",
    "    for i in range(len(list1)):\n",
    "        if i < len(list1)-1:  # Check until the second last element\n",
    "            converted_tuple.append((list1[i], list1[i+1]))  # Create a tuple of consecutive vertices\n",
    "\n",
    "    # Check if there are no duplicate edges (trail condition)\n",
    "    if len(converted_tuple) == len(set(converted_tuple)):\n",
    "        return 'List of vertices is trail'\n",
    "    else:\n",
    "        return 'List of vertices is not trail'\n",
    "\n",
    "\n",
    "# defining a funcn to check if the list of vertices forms a Path\n",
    "def check_path(list1):\n",
    "    # Convert list of vertices into a list of edges (tuples of consecutive vertices)\n",
    "    converted_tuple = []\n",
    "    for i in range(len(list1)):\n",
    "        if i < len(list1)-1:  # Check until the second last element\n",
    "            converted_tuple.append((list1[i], list1[i+1]))  # Create a tuple of consecutive vertices\n",
    "\n",
    "    # Check if there are no duplicate edges and all vertices are unique (path condition)\n",
    "    if len(converted_tuple) == len(set(converted_tuple)) and len(list1) == len(set(list1)):\n",
    "        return 'List of vertices is path'\n",
    "    else:\n",
    "        return 'List of vertices is not path'\n",
    "print(check_walk([1, 2, 4, 3, 1]))  \n",
    "print(check_trail([1, 2, 4, 5, 4, 2]))  \n",
    "print(check_path([1, 2, 4, 5])) \n"
   ]
  },
  {
   "cell_type": "markdown",
   "metadata": {},
   "source": [
    "# Q no. 7 \n",
    "Check if a given graph is a tree.\n",
    "* condition will be acyclic and connected \n",
    "* if n vertices then n-1 edges must"
   ]
  },
  {
   "cell_type": "code",
   "execution_count": 30,
   "metadata": {},
   "outputs": [
    {
     "name": "stdout",
     "output_type": "stream",
     "text": [
      "Graph 1: Not a tree (should have n-1 edges)\n",
      "Graph 2: It's a tree\n"
     ]
    }
   ],
   "source": [
    "# defining a function to check if a graph is a tree using is_connected() you already wrote\n",
    "def is_tree(graph):\n",
    "    n = len(graph)  # Number of nodes\n",
    "\n",
    "    # Count edges (only upper triangle to avoid counting twice)\n",
    "    edge_count = 0\n",
    "    for i in range(n):\n",
    "        for j in range(i + 1, n):\n",
    "            if graph[i][j] == 1:\n",
    "                edge_count += 1\n",
    "\n",
    "    # Tree must have exactly n - 1 edges\n",
    "    if edge_count != n - 1:\n",
    "        return \"Not a tree (should have n-1 edges)\"\n",
    "\n",
    "    # Use your existing function to check if it's connected\n",
    "    if not is_connected(graph):\n",
    "        return \"Not a tree (not connected)\"\n",
    "\n",
    "    return \"It's a tree\"\n",
    "graph1 = [  [0, 1, 1],[1, 0, 1],[1, 1, 0]]\n",
    "\n",
    "graph2 = [[0, 1, 0],[1, 0, 1],[0, 1, 0]]\n",
    "\n",
    "print(\"Graph 1:\", is_tree(graph1))  \n",
    "print(\"Graph 2:\", is_tree(graph2))  \n",
    "\n"
   ]
  },
  {
   "cell_type": "markdown",
   "metadata": {},
   "source": [
    "# Q no.8 \n",
    "Given a connected cyclic graph, find its spanning tree.\n",
    "* Includes all vertices.\n",
    "\n",
    "* Has no cycles.\n",
    "\n",
    " * Has exactly (n - 1) edges if there are n nodes.\n",
    "\n",
    "\n"
   ]
  },
  {
   "cell_type": "code",
   "execution_count": 31,
   "metadata": {},
   "outputs": [
    {
     "name": "stdout",
     "output_type": "stream",
     "text": [
      "Spanning Tree: [(0, 1), (0, 2), (2, 3)]\n"
     ]
    }
   ],
   "source": [
    "# defining a function to extract a spanning tree using an iterative DFS approach\n",
    "def spanning_tree(graph, source):\n",
    "    stack = [source]              # Stack to manage  traversal\n",
    "    visited = set([source])       # Keep track of visited nodes\n",
    "    tree_edges = []               # To store edges of the spanning tree\n",
    "\n",
    "    while stack:\n",
    "        current = stack.pop()\n",
    "\n",
    "        for neighbor in graph[current]:\n",
    "            if neighbor not in visited:\n",
    "                visited.add(neighbor)\n",
    "                stack.append(neighbor)\n",
    "                tree_edges.append((current, neighbor))  # Store the tree edge\n",
    "\n",
    "    return tree_edges\n",
    "\n",
    "# Example graph with cycles (undirected)\n",
    "graph_data = { 0: [1, 2],1: [0, 2, 3],2: [0, 1, 3], 3: [1, 2]}\n",
    "\n",
    "tree = spanning_tree(graph_data, 0)\n",
    "print(\"Spanning Tree:\", tree)\n"
   ]
  },
  {
   "cell_type": "markdown",
   "metadata": {},
   "source": [
    "# Q no. 9\n",
    "Given a tree, find the number of leaf nodes.\n",
    "we will find num of leaf node by representing tree in the form of adjacency list\n",
    "* there will be simple condition firstly we will count the number of nodes that have only one connection ( degree = 1), since leaf nodes connect to just one other node we will get no. of leaf nodes"
   ]
  },
  {
   "cell_type": "code",
   "execution_count": 32,
   "metadata": {},
   "outputs": [
    {
     "name": "stdout",
     "output_type": "stream",
     "text": [
      "Leaf nodes: 4\n"
     ]
    }
   ],
   "source": [
    "def count_leaf_nodes(tree_adj_list):\n",
    "    # Initialize counter to store number of leaf nodes\n",
    "    leaf_count = 0\n",
    "\n",
    "    # We loop through each node and its neighbors in the tree\n",
    "    for node, neighbors in tree_adj_list.items():\n",
    "        # A leaf node has only one connection (degree = 1)\n",
    "        if len(neighbors) == 1:\n",
    "            leaf_count += 1  # Increase the count for each leaf node found\n",
    "\n",
    "    return leaf_count  # Return total number of leaf nodes\n",
    "\n",
    "tree = { 0: [1],1: [0, 2, 3],2: [1],3: [1, 4, 5],4: [3],5: [3]}\n",
    "\n",
    "# Call the function to count leaf nodes and print result\n",
    "print(\"Leaf nodes:\", count_leaf_nodes(tree))  # (leaf nodes 0, 2, 4, 5)\n",
    "\n"
   ]
  },
  {
   "cell_type": "markdown",
   "metadata": {},
   "source": [
    "# Q no. 10\n",
    "Given a tree, check if it's a binary tree.\n",
    "* Each node should have at most 3 neighbors\n",
    " 2 children + 1 parent = maximum 3 adjacent nodes\n",
    " * In an undirected tree, each child also connects back to its parent.\n",
    " \n",
    "   So, even if a node has 2 children, its total neighbor count becomes 3.\n",
    "\n",
    "\n"
   ]
  },
  {
   "cell_type": "code",
   "execution_count": 33,
   "metadata": {},
   "outputs": [
    {
     "name": "stdout",
     "output_type": "stream",
     "text": [
      "Tree1 is binary: True\n"
     ]
    }
   ],
   "source": [
    "def is_binary_tree(tree_adj_list):\n",
    "    # Loop through each node and its connected neighbors\n",
    "    for node, neighbors in tree_adj_list.items():\n",
    "       \n",
    "        if len(neighbors) > 3:\n",
    "            return False  # If more than 3 neighbors, not a binary tree\n",
    "    return True  # All nodes have ≤ 2 children (excluding parent), so it's binary\n",
    "tree1 = {0: [1],1: [0, 2, 3],2: [1],3: [1]}\n",
    "print(\"Tree1 is binary:\", is_binary_tree(tree1))"
   ]
  },
  {
   "cell_type": "markdown",
   "metadata": {},
   "source": [
    "# Q no. 11\n",
    "Given a tree, find its height\n",
    "*  Height is maximum number of edges from root to any leaf node"
   ]
  },
  {
   "cell_type": "code",
   "execution_count": 34,
   "metadata": {},
   "outputs": [
    {
     "name": "stdout",
     "output_type": "stream",
     "text": [
      "Height of tree: 2\n"
     ]
    }
   ],
   "source": [
    "# defining a function to find the height of a tree using DFS\n",
    "def tree_height(adj_list, root):\n",
    "    def dfs(node, parent):\n",
    "        max_depth = 0\n",
    "        for neighbor in adj_list[node]:\n",
    "            if neighbor != parent:  # Avoid going back to the parent\n",
    "                depth = dfs(neighbor, node)  # Recurse on child\n",
    "                max_depth = max(max_depth, depth)\n",
    "        return max_depth + 1  # Add current level\n",
    "\n",
    "    # Subtract 1 to return height in terms of edges, not nodes\n",
    "    return dfs(root, None) - 1\n",
    "\n",
    "# Example tree (adjacency list format)\n",
    "tree = {0: [1, 2],1: [0, 3, 4], 2: [0],3: [1],4: [1]}\n",
    "\n",
    "print(\"Height of tree:\", tree_height(tree, 0))  \n"
   ]
  },
  {
   "cell_type": "markdown",
   "metadata": {},
   "source": [
    "# Q no. 12\n",
    "Given a tree, find its depth.\n",
    "Depth of a node is  number of edges from the root to that node"
   ]
  },
  {
   "cell_type": "code",
   "execution_count": 35,
   "metadata": {},
   "outputs": [
    {
     "name": "stdout",
     "output_type": "stream",
     "text": [
      "Depth of each node: {0: 0, 1: 1, 2: 1, 3: 2, 4: 2}\n"
     ]
    }
   ],
   "source": [
    "# defining a function to compute the depth of all nodes in the tree using BFS\n",
    "def find_node_depths(tree, root):\n",
    "    from collections import deque\n",
    "    \n",
    "    depth = {root: 0}  # Root has depth 0\n",
    "    queue = deque([root])  # Start BFS from root\n",
    "\n",
    "    while queue:\n",
    "        current = queue.popleft()\n",
    "        for neighbor in tree[current]:\n",
    "            if neighbor not in depth:  # If node is not visited\n",
    "                depth[neighbor] = depth[current] + 1  # Set its depth\n",
    "                queue.append(neighbor)\n",
    "    \n",
    "    return depth  # Dictionary with depth of each node\n",
    "\n",
    "# Example tree\n",
    "tree = {0: [1, 2], 1: [0, 3, 4], 2: [0],3: [1],4: [1]}\n",
    "\n",
    "depths = find_node_depths(tree, 0)  # 0 is the root\n",
    "print(\"Depth of each node:\", depths)\n"
   ]
  }
 ],
 "metadata": {
  "kernelspec": {
   "display_name": "Python 3",
   "language": "python",
   "name": "python3"
  },
  "language_info": {
   "codemirror_mode": {
    "name": "ipython",
    "version": 3
   },
   "file_extension": ".py",
   "mimetype": "text/x-python",
   "name": "python",
   "nbconvert_exporter": "python",
   "pygments_lexer": "ipython3",
   "version": "3.12.10"
  }
 },
 "nbformat": 4,
 "nbformat_minor": 2
}
